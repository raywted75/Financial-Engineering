{
 "cells": [
  {
   "cell_type": "markdown",
   "metadata": {},
   "source": [
    "# 本金平均攤還試算"
   ]
  },
  {
   "cell_type": "markdown",
   "metadata": {},
   "source": [
    "## 前言\n",
    "\n",
    "貸款的攤還方式主要有兩種：\n",
    "- 本息平均攤還：每月繳款金額（本金 + 利息）相同\n",
    "- 本金平均攤還：每月繳款本金相同，利息隨剩餘貸款金額改變"
   ]
  },
  {
   "cell_type": "markdown",
   "metadata": {},
   "source": [
    "## 實作\n",
    "\n",
    "本次作業實作**本金平均攤試算**，目標做出與[台南第三信用合作社](https://ttc.scu.org.tw/memdca1.htm)的試算結果相同的程式，以下將分為四個步驟處理：\n",
    "- Step 1: 資料輸入\n",
    "- Step 2: 本金計算\n",
    "- Step 3: 利息計算\n",
    "- Step 4: 資料輸出\n"
   ]
  },
  {
   "cell_type": "markdown",
   "metadata": {},
   "source": [
    "### Step 1: 資料輸入\n",
    "\n",
    "提供給使用者輸入的資料有三項：\n",
    "1. 本金：以萬元為輸入單位"
   ]
  },
  {
   "cell_type": "code",
   "execution_count": null,
   "metadata": {},
   "outputs": [],
   "source": [
    "principal = float(input(\"本金(萬元): \")) * 10000"
   ]
  },
  {
   "cell_type": "markdown",
   "metadata": {},
   "source": [
    "2. 期數：以年為輸入單位，因此需要換算成月份數量"
   ]
  },
  {
   "cell_type": "code",
   "execution_count": null,
   "metadata": {},
   "outputs": [],
   "source": [
    "period = int(input(\"期數(年): \")) * 12"
   ]
  },
  {
   "cell_type": "markdown",
   "metadata": {},
   "source": [
    "3. 年利率：以百分比為輸入單位"
   ]
  },
  {
   "cell_type": "code",
   "execution_count": null,
   "metadata": {},
   "outputs": [],
   "source": [
    "r = float(input(\"年利率(%): \"))"
   ]
  },
  {
   "cell_type": "markdown",
   "metadata": {},
   "source": [
    "### Step 2: 本金計算"
   ]
  },
  {
   "cell_type": "markdown",
   "metadata": {},
   "source": [
    "本金的計算方式為：<br>\n",
    "**每月攤還本金(元) = 本金(元) / 期數(月)**<br>\n",
    "若計算出來的結果包含小數，則無條件進位到整數"
   ]
  },
  {
   "cell_type": "code",
   "execution_count": null,
   "metadata": {},
   "outputs": [],
   "source": [
    "avg_payment = math.ceil(principal / period)"
   ]
  },
  {
   "cell_type": "markdown",
   "metadata": {},
   "source": [
    "也因為每月攤還本金的計算方式採無條件進位，因此最後一期的攤還本金只需要繳納剩餘的本金即可"
   ]
  },
  {
   "cell_type": "code",
   "execution_count": null,
   "metadata": {},
   "outputs": [],
   "source": [
    "payment = avg_payment if remaining_principal > avg_payment else int(remaining_principal)"
   ]
  },
  {
   "cell_type": "markdown",
   "metadata": {},
   "source": [
    "### Step 3: 利息計算\n",
    "\n",
    "利息的計算方式為：<br>\n",
    "**每月攤還利息(元) = 剩餘本金(元) * 月利率(％)**<br>\n",
    "若計算出來的結果包含小數，則四捨五入到整數\n",
    "(注意：python3 的 `round()` 並非四捨五入，詳情請參考[官方文件](https://docs.python.org/3/library/functions.html#round))"
   ]
  },
  {
   "cell_type": "code",
   "execution_count": null,
   "metadata": {},
   "outputs": [],
   "source": [
    "decimal, integer = math.modf(remaining_principal * r / 1200)\n",
    "interest = int(integer + 1) if decimal >= 0.5 else int(integer)"
   ]
  },
  {
   "cell_type": "markdown",
   "metadata": {},
   "source": [
    "### Step 4: 資料輸出\n",
    "\n",
    "為了方便及美觀，我使用 `pandas` 及 `tabulate` 兩個套件進行資料的儲存與輸出"
   ]
  },
  {
   "cell_type": "code",
   "execution_count": null,
   "metadata": {},
   "outputs": [],
   "source": [
    "table = pd.DataFrame({\"本金(元)\": payments, \"利息(元)\": interests, \"本金利息累計(元)\": accumulated}, index=indices)\n",
    "summary = pd.DataFrame(data={\"\": [int(principal), int(period/12), r, avg_payment, table[\"利息(元)\"].sum()]}, index=[\"本金(元)\", \"期數(年)\", \"年利率(%)\", \"平均每月攤還本金(元)\", \"全部利息(元)\"], dtype='object')\n",
    "\n",
    "print(\"\\n\")\n",
    "print(\"基本資訊:\")\n",
    "print(tabulate(summary, tablefmt=\"grid\"))\n",
    "print(\"\\n\")\n",
    "print(f\"每月攤還本金、利息一覽表(共 {int(period)} 期):\")\n",
    "print(tabulate(table, headers='keys', tablefmt=\"grid\"))"
   ]
  },
  {
   "cell_type": "markdown",
   "metadata": {},
   "source": [
    "## 成果\n",
    "\n",
    "完整程式碼："
   ]
  },
  {
   "cell_type": "code",
   "execution_count": 5,
   "metadata": {},
   "outputs": [
    {
     "name": "stdin",
     "output_type": "stream",
     "text": [
      "本金(萬元):  15\n",
      "期數(年):  1\n",
      "年利率(%):  6\n"
     ]
    },
    {
     "name": "stdout",
     "output_type": "stream",
     "text": [
      "\n",
      "\n",
      "基本資訊:\n",
      "+----------------------+--------+\n",
      "| 本金(元)             | 150000 |\n",
      "+----------------------+--------+\n",
      "| 期數(年)             |      1 |\n",
      "+----------------------+--------+\n",
      "| 年利率(%)            |      6 |\n",
      "+----------------------+--------+\n",
      "| 平均每月攤還本金(元) |  12500 |\n",
      "+----------------------+--------+\n",
      "| 全部利息(元)         |   4878 |\n",
      "+----------------------+--------+\n",
      "\n",
      "\n",
      "每月攤還本金、利息一覽表(共 12 期):\n",
      "+----------+------------+------------+--------------------+\n",
      "|          |   本金(元) |   利息(元) |   本金利息累計(元) |\n",
      "+==========+============+============+====================+\n",
      "| 第 1 期  |      12500 |        750 |              13250 |\n",
      "+----------+------------+------------+--------------------+\n",
      "| 第 2 期  |      12500 |        688 |              26438 |\n",
      "+----------+------------+------------+--------------------+\n",
      "| 第 3 期  |      12500 |        625 |              39563 |\n",
      "+----------+------------+------------+--------------------+\n",
      "| 第 4 期  |      12500 |        563 |              52626 |\n",
      "+----------+------------+------------+--------------------+\n",
      "| 第 5 期  |      12500 |        500 |              65626 |\n",
      "+----------+------------+------------+--------------------+\n",
      "| 第 6 期  |      12500 |        438 |              78564 |\n",
      "+----------+------------+------------+--------------------+\n",
      "| 第 7 期  |      12500 |        375 |              91439 |\n",
      "+----------+------------+------------+--------------------+\n",
      "| 第 8 期  |      12500 |        313 |             104252 |\n",
      "+----------+------------+------------+--------------------+\n",
      "| 第 9 期  |      12500 |        250 |             117002 |\n",
      "+----------+------------+------------+--------------------+\n",
      "| 第 10 期 |      12500 |        188 |             129690 |\n",
      "+----------+------------+------------+--------------------+\n",
      "| 第 11 期 |      12500 |        125 |             142315 |\n",
      "+----------+------------+------------+--------------------+\n",
      "| 第 12 期 |      12500 |         63 |             154878 |\n",
      "+----------+------------+------------+--------------------+\n"
     ]
    }
   ],
   "source": [
    "import math\n",
    "import pandas as pd\n",
    "from tabulate import tabulate\n",
    "\n",
    "\n",
    "principal = float(input(\"本金(萬元): \")) * 10000\n",
    "period = int(input(\"期數(年): \")) * 12\n",
    "r = float(input(\"年利率(%): \"))\n",
    "\n",
    "avg_payment = math.ceil(principal / period)\n",
    "remaining_principal = principal\n",
    "payments, interests, accumulated, indices  = [list() for i in range(4)]\n",
    "\n",
    "total = 0\n",
    "for i in range(period):\n",
    "    payment = avg_payment if remaining_principal > avg_payment else int(remaining_principal)\n",
    "    decimal, integer = math.modf(remaining_principal * r / 1200)\n",
    "    interest = int(integer + 1) if decimal >= 0.5 else int(integer)\n",
    "    total += payment + interest\n",
    "    \n",
    "    payments.append(payment)\n",
    "    interests.append(interest)\n",
    "    accumulated.append(total)\n",
    "    indices.append(f\"第 {i+1} 期\")\n",
    "    \n",
    "    remaining_principal -= payment\n",
    "    \n",
    "table = pd.DataFrame({\"本金(元)\": payments, \"利息(元)\": interests, \"本金利息累計(元)\": accumulated}, index=indices)\n",
    "summary = pd.DataFrame(data={\"\": [int(principal), int(period/12), r, avg_payment, table[\"利息(元)\"].sum()]}, index=[\"本金(元)\", \"期數(年)\", \"年利率(%)\", \"平均每月攤還本金(元)\", \"全部利息(元)\"], dtype='object')\n",
    "\n",
    "print(\"\\n\")\n",
    "print(\"基本資訊:\")\n",
    "print(tabulate(summary, tablefmt=\"grid\"))\n",
    "print(\"\\n\")\n",
    "print(f\"每月攤還本金、利息一覽表(共 {int(period)} 期):\")\n",
    "print(tabulate(table, headers='keys', tablefmt=\"grid\"))"
   ]
  },
  {
   "cell_type": "markdown",
   "metadata": {},
   "source": [
    "## TODO\n",
    "- [ ] 實作本息平均攤還，提供使用者另一個選項\n",
    "- [ ] 確保輸入資料格式、型態正確，並提供防呆提醒"
   ]
  }
 ],
 "metadata": {
  "kernelspec": {
   "display_name": "Python 3",
   "language": "python",
   "name": "python3"
  },
  "language_info": {
   "codemirror_mode": {
    "name": "ipython",
    "version": 3
   },
   "file_extension": ".py",
   "mimetype": "text/x-python",
   "name": "python",
   "nbconvert_exporter": "python",
   "pygments_lexer": "ipython3",
   "version": "3.7.4"
  }
 },
 "nbformat": 4,
 "nbformat_minor": 4
}
