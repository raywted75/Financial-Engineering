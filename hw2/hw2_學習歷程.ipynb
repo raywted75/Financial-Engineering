{
 "cells": [
  {
   "cell_type": "markdown",
   "metadata": {},
   "source": [
    "# Homework 2: YTM, Spot Rate, and Forward Rate"
   ]
  },
  {
   "cell_type": "markdown",
   "metadata": {},
   "source": [
    "## 前言：\n",
    "\n",
    "第二次作業要實作三項指標：\n",
    "\n",
    "- Yield to Maturity (YTM)\n",
    "- Spot Rate\n",
    "- Forward Rate"
   ]
  },
  {
   "cell_type": "markdown",
   "metadata": {},
   "source": [
    "## YTM\n",
    "\n",
    "首先，我們的目標是實作出如 [Bond Yield Calculator](https://www.calkoo.com/en/ytm-calculator) 一樣的 YTM 計算機  \n",
    "一開始先讓使用者輸入計算 YTM 所需要的參數："
   ]
  },
  {
   "cell_type": "code",
   "execution_count": 1,
   "metadata": {},
   "outputs": [
    {
     "name": "stdin",
     "output_type": "stream",
     "text": [
      "Current Bond Price:  950\n",
      "Bond Par Value:  1000\n",
      "Bond Coupon Rate(%):  12\n",
      "Years to Maturity:  3\n",
      "Payment(1. Annually, 2. Semi-annually, 4. Quarterly):  2\n"
     ]
    }
   ],
   "source": [
    "P = float(input(\"Current Bond Price: \"))\n",
    "F = float(input(\"Bond Par Value: \"))\n",
    "c = float(input(\"Bond Coupon Rate(%): \")) / 100\n",
    "n = float(input(\"Years to Maturity: \"))\n",
    "m = int(input(\"Payment(1. Annually, 2. Semi-annually, 4. Quarterly): \"))"
   ]
  },
  {
   "cell_type": "markdown",
   "metadata": {},
   "source": [
    "計算 YTM 有兩種做法：\n",
    "\n",
    "- 第一種是上課提到的做法，利用現有的套件，例如 Excel 的 Solver 去解方程式，而 Python 中也有類似的套件：SymPy\n",
    "- 第二種做法是窮舉 YTM，根據計算出來的 Bond Price 再不斷逼近真實的 YTM  \n",
    "\n",
    "以下會採取第二種做法"
   ]
  },
  {
   "cell_type": "markdown",
   "metadata": {},
   "source": [
    "1. 第一步我們需要一個計算 Bond Price 的 function，參考該網站 [Bond Price Calculator](https://www.thecalculator.co/finance/Bond-Price-Calculator-606.html) 我們可以實作出以下的 function"
   ]
  },
  {
   "cell_type": "code",
   "execution_count": 2,
   "metadata": {},
   "outputs": [],
   "source": [
    "def compute_p(F, c, m, n, r):\n",
    "    C = F * c / m\n",
    "    P = C * (1 - (1 + r/m)**(-n*m)) / (r/m) + F / (1 + r/m)**(n*m)\n",
    "    return P"
   ]
  },
  {
   "cell_type": "markdown",
   "metadata": {},
   "source": [
    "2. 而窮舉 YTM 的數值雖然不難，但我們可以有更聰明的作法，根據 [YTM Approximation Formul](https://financeformulas.net/Yield_to_Maturity.html) 我們可以實作出以下的 function"
   ]
  },
  {
   "cell_type": "code",
   "execution_count": 3,
   "metadata": {},
   "outputs": [],
   "source": [
    "def approximate_r(P, F, c, m, n):\n",
    "    r = ((F*c/m) + (F-P)/n) / ((F+P)/2)\n",
    "    return r"
   ]
  },
  {
   "cell_type": "markdown",
   "metadata": {},
   "source": [
    "3. 最後，使用以上兩個 functions，就可以針對 YTM 進行估計"
   ]
  },
  {
   "cell_type": "code",
   "execution_count": 4,
   "metadata": {},
   "outputs": [],
   "source": [
    "def compute_r(P, F, c, m, n):\n",
    "    r = approximate_r(P, F, c, m, n) # Initialize r by approximation    \n",
    "    inc = 0.01\n",
    "    \n",
    "    while compute_p(F, c, m, n, r) - P > 0.0001: # If the derived P is larger than actual P, we should increase r\n",
    "        if compute_p(F, c, m, n, r+inc) < P:  # If the derived P is smaller than actual P, we should lower the amount added to r\n",
    "            inc /= 10\n",
    "        else:\n",
    "            r += inc          \n",
    "    while P - compute_p(F, c, m, n, r) > 0.0001: # If the derived P is small than actual P, we should decrease r\n",
    "        if compute_p(F, c, m, n, r-inc) > P:  # If the derived P is larger than actual P, we should lower the amount minus to r\n",
    "            inc /= 10\n",
    "        else:\n",
    "            r -= inc\n",
    "\n",
    "    if r < 0:\n",
    "        r = 0\n",
    "    return r/m "
   ]
  },
  {
   "cell_type": "markdown",
   "metadata": {},
   "source": [
    "注意：計算出來的 YTM 並未進行年化"
   ]
  },
  {
   "cell_type": "code",
   "execution_count": 5,
   "metadata": {},
   "outputs": [
    {
     "name": "stdout",
     "output_type": "stream",
     "text": [
      "Yield to Maturity: 7.0506%\n"
     ]
    }
   ],
   "source": [
    "r = compute_r(P, F, c, m, n)\n",
    "print(f\"Yield to Maturity: {r*100:.4f}%\")"
   ]
  },
  {
   "cell_type": "markdown",
   "metadata": {},
   "source": [
    "## Spot Rate"
   ]
  },
  {
   "cell_type": "markdown",
   "metadata": {},
   "source": [
    "關於 Spot Rate 的計算，根據使用者輸入的資訊不同，計算方法也會不同， 以下實作兩種算法：  \n",
    "第一種：[Trignosource: Spot Rate](https://www.trignosource.com/finance/spot%20rate.html)   \n",
    "-> 使用者輸入 Zero Coupon Bond Price 與其 Duration，計算 Spot Rate"
   ]
  },
  {
   "cell_type": "code",
   "execution_count": 6,
   "metadata": {},
   "outputs": [
    {
     "name": "stdin",
     "output_type": "stream",
     "text": [
      "Duration of spot rate:  4\n",
      "Unit zero-coupon bond price(0-1):  0.683\n"
     ]
    }
   ],
   "source": [
    "t = float(input(\"Duration of spot rate: \"))\n",
    "p = float(input(\"Unit zero-coupon bond price(0-1): \"))"
   ]
  },
  {
   "cell_type": "code",
   "execution_count": 7,
   "metadata": {},
   "outputs": [
    {
     "name": "stdout",
     "output_type": "stream",
     "text": [
      "4.0 year spot rate of interest: 10.00%\n"
     ]
    }
   ],
   "source": [
    "s = p ** (-1 / t) - 1\n",
    "print(f\"{t} year spot rate of interest: {s*100:.2f}%\")"
   ]
  },
  {
   "cell_type": "markdown",
   "metadata": {},
   "source": [
    "第二種：[綠角財經筆記](http://greenhornfinancefootnote.blogspot.com/2010/06/how-to-compute-theoretical-spot-rates.html)  \n",
    "-> 使用者輸入各期資訊， 計算 Spot Rate"
   ]
  },
  {
   "cell_type": "markdown",
   "metadata": {},
   "source": [
    "1. 首先要知道**總共持續多少時間**與**多久計算一次利息**，才有辦法決定接下來要計算多少資訊"
   ]
  },
  {
   "cell_type": "code",
   "execution_count": 8,
   "metadata": {},
   "outputs": [
    {
     "name": "stdin",
     "output_type": "stream",
     "text": [
      "Years to Maturity:  1.5\n",
      "Payment(1. Annually, 2. Semi-annually, 4. Quarterly):  2\n"
     ]
    }
   ],
   "source": [
    "n = float(input(\"Years to Maturity: \"))\n",
    "m = int(input(\"Payment(1. Annually, 2. Semi-annually, 4. Quarterly): \"))"
   ]
  },
  {
   "cell_type": "markdown",
   "metadata": {},
   "source": [
    "2. 根據以上資訊，請使用者輸入足夠的資訊 (Bond Price, Par Value, Coupon Rate)，再使用前面定義的 function 計算出個期的 YTM"
   ]
  },
  {
   "cell_type": "code",
   "execution_count": 9,
   "metadata": {},
   "outputs": [
    {
     "name": "stdin",
     "output_type": "stream",
     "text": [
      "Bond Price of a 0.5 year due bond:  995\n",
      "Par Value of a 0.5 year due bond:  1000\n",
      "Coupon Rate of a 0.5 year due bond:  0\n"
     ]
    },
    {
     "name": "stdout",
     "output_type": "stream",
     "text": [
      "\n"
     ]
    },
    {
     "name": "stdin",
     "output_type": "stream",
     "text": [
      "Bond Price of a 1.0 year due bond:  980.3\n",
      "Par Value of a 1.0 year due bond:  1000\n",
      "Coupon Rate of a 1.0 year due bond:  0\n"
     ]
    },
    {
     "name": "stdout",
     "output_type": "stream",
     "text": [
      "\n"
     ]
    },
    {
     "name": "stdin",
     "output_type": "stream",
     "text": [
      "Bond Price of a 1.5 year due bond:  1029.1\n",
      "Par Value of a 1.5 year due bond:  1000\n",
      "Coupon Rate of a 1.5 year due bond:  5\n"
     ]
    },
    {
     "name": "stdout",
     "output_type": "stream",
     "text": [
      "\n"
     ]
    }
   ],
   "source": [
    "coupon_rate = list()\n",
    "ytm = list()\n",
    "for i in range(int(m * n)):\n",
    "    P = float(input(f\"Bond Price of a {(i+1) / m} year due bond: \"))\n",
    "    F = float(input(f\"Par Value of a {(i+1) / m} year due bond: \"))\n",
    "    c = float(input(f\"Coupon Rate of a {(i+1) / m} year due bond: \")) / 100\n",
    "    coupon_rate.append(c)\n",
    "    r = compute_r(P, F, c, m, (i+1) / m)\n",
    "    ytm.append(r * m)\n",
    "    print()"
   ]
  },
  {
   "cell_type": "markdown",
   "metadata": {},
   "source": [
    "3. 計算 Spot Rate 的過程，一開始是計算 Present Value，之後再換算回 Zero Coupon Bond 的組合。這個過程可以化簡為以下的 function"
   ]
  },
  {
   "cell_type": "code",
   "execution_count": 10,
   "metadata": {},
   "outputs": [],
   "source": [
    "def compute_spot(spot_rates, m, ytm, c):\n",
    "    pv = 0\n",
    "    for i in range(len(ytm)):\n",
    "        if i != (len(ytm) - 1):\n",
    "            pv += (c / 2) / ((1 + ytm[len(ytm)-1] / 2) ** (i + 1))\n",
    "            pv -= (c / 2) / ((1 + spot_rates[i] / m) ** (i + 1))\n",
    "        else:\n",
    "            pv += (1 + c / 2) / ((1 + ytm[len(ytm)-1] / 2) ** (i + 1))\n",
    "            sn = ((pv / (1 + c / 2)) ** (-1 / (i + 1)) - 1) * 2\n",
    "            return sn"
   ]
  },
  {
   "cell_type": "markdown",
   "metadata": {},
   "source": [
    "4. 有了足夠的資訊與工具，便能依序計算出個期的 Spot Rate"
   ]
  },
  {
   "cell_type": "code",
   "execution_count": 11,
   "metadata": {},
   "outputs": [],
   "source": [
    "spot_rates = list()\n",
    "for i in range(int(m * n)):\n",
    "    if (i+1) / m <= 1:\n",
    "        spot_rates.append(ytm[i])\n",
    "    else:\n",
    "        spot_rates.append(compute_spot(spot_rates, m, ytm, coupon_rate[i]))"
   ]
  },
  {
   "cell_type": "code",
   "execution_count": 12,
   "metadata": {},
   "outputs": [
    {
     "name": "stdout",
     "output_type": "stream",
     "text": [
      "+-----------+--------+--------+--------+\n",
      "| 到期時間  | 0.5 年 | 1.0 年 | 1.5 年 |\n",
      "+-----------+--------+--------+--------+\n",
      "| YTM       | 1.01%  | 2.0%   | 3.0%   |\n",
      "+-----------+--------+--------+--------+\n",
      "| Spot Rate | 1.01%  | 2.0%   | 3.04%  |\n",
      "+-----------+--------+--------+--------+\n"
     ]
    }
   ],
   "source": [
    "import pandas as pd\n",
    "from tabulate import tabulate\n",
    "\n",
    "due_row = [f\"{(i+1)/m} 年\" for i in range(int(m * n))]\n",
    "ytm_row = [f\"{round(i*100, 2)}%\" for i in ytm]\n",
    "spot_rates_row = [f\"{round(i*100, 2)}%\" for i in spot_rates]\n",
    "\n",
    "spot_rate_matrix = [due_row, ytm_row, spot_rates_row]\n",
    "\n",
    "spot_rate_table = pd.DataFrame(spot_rate_matrix, index=['到期時間', 'YTM', 'Spot Rate'])\n",
    "print(tabulate(spot_rate_table, tablefmt=\"grid\"))"
   ]
  },
  {
   "cell_type": "markdown",
   "metadata": {},
   "source": [
    "## Forward Rate"
   ]
  },
  {
   "cell_type": "markdown",
   "metadata": {},
   "source": [
    "關於 Forward Rate 的計算，同樣有兩種算法：  \n",
    "第一種：[Trignosource: Forward Rate](https://www.trignosource.com/finance/Forward%20rate.html)，只計算單一的 Forward Rate"
   ]
  },
  {
   "cell_type": "code",
   "execution_count": 13,
   "metadata": {},
   "outputs": [
    {
     "name": "stdin",
     "output_type": "stream",
     "text": [
      "Time due for the beginning of forward rate(year):  3\n",
      "Duration of forward rate(year):  2\n",
      "The price of the 3 year zero-coupon bond per unit nominal:  0.83\n",
      "The price of the 5 year zero-coupon bond per unit nominal:  0.6743\n"
     ]
    }
   ],
   "source": [
    "t = int(input(\"Time due for the beginning of forward rate(year): \"))\n",
    "r = int(input(\"Duration of forward rate(year): \"))\n",
    "pt = float(input(f\"The price of the {t} year zero-coupon bond per unit nominal: \"))\n",
    "ptr = float(input(f\"The price of the {t+r} year zero-coupon bond per unit nominal: \"))"
   ]
  },
  {
   "cell_type": "code",
   "execution_count": 14,
   "metadata": {},
   "outputs": [
    {
     "name": "stdout",
     "output_type": "stream",
     "text": [
      "f(3,2) = 10.95%\n"
     ]
    }
   ],
   "source": [
    "f = (pt / ptr) ** (1 / r) - 1\n",
    "print(f\"f({t},{r}) = {f*100:.2f}%\")"
   ]
  },
  {
   "cell_type": "markdown",
   "metadata": {},
   "source": [
    "第二種：[綠角財經筆記](http://greenhornfinancefootnote.blogspot.com/2010/08/how-to-compute-forward-rates-from.html)  \n",
    "-> 使用者輸入各期 Spot Rate， 計算 Forward Rate"
   ]
  },
  {
   "cell_type": "markdown",
   "metadata": {},
   "source": [
    "1. 首先要知道總共持續多少時間與多久計算一次利息，才有辦法決定接下來要計算多少資"
   ]
  },
  {
   "cell_type": "code",
   "execution_count": 15,
   "metadata": {},
   "outputs": [
    {
     "name": "stdin",
     "output_type": "stream",
     "text": [
      "Years to Maturity:  1.5\n",
      "Payment(1. Annually, 2. Semi-annually, 4. Quarterly):  2\n"
     ]
    }
   ],
   "source": [
    "n = float(input(\"Years to Maturity: \"))\n",
    "m = int(input(\"Payment(1. Annually, 2. Semi-annually, 4. Quarterly): \"))"
   ]
  },
  {
   "cell_type": "markdown",
   "metadata": {},
   "source": [
    "2. 使用者輸入各期 Spot Rate"
   ]
  },
  {
   "cell_type": "code",
   "execution_count": 16,
   "metadata": {},
   "outputs": [
    {
     "name": "stdin",
     "output_type": "stream",
     "text": [
      "Add the spot rate(%) of 0.5 year zero coupon bond:  1\n",
      "Add the spot rate(%) of 1.0 year zero coupon bond:  2\n",
      "Add the spot rate(%) of 1.5 year zero coupon bond:  3.03\n"
     ]
    }
   ],
   "source": [
    "spot_rate_list = [0.0]\n",
    "for i in range(int(m * n)):\n",
    "    spot_rate = float(input(f\"Add the spot rate(%) of {(i+1)/m} year zero coupon bond: \")) / 100\n",
    "    spot_rate_list.append(spot_rate)"
   ]
  },
  {
   "cell_type": "markdown",
   "metadata": {},
   "source": [
    "3. 定義 Forward Rate 計算 function"
   ]
  },
  {
   "cell_type": "code",
   "execution_count": 17,
   "metadata": {},
   "outputs": [],
   "source": [
    "def compute_forward(spot_rate_list):\n",
    "    forward_rate_matrix = list()\n",
    "    for i in range(len(spot_rate_list)):\n",
    "        forward_rates = list()\n",
    "        for j in range(len(spot_rate_list)):\n",
    "            if j <= i:\n",
    "                forward_rates.append(\"x\")\n",
    "            else:\n",
    "                forward_rate = (((1 + spot_rate_list[j]) ** j) / ((1 + spot_rate_list[i]) ** i)) ** (1 / (j - i)) - 1\n",
    "                forward_rates.append(f\"{round(forward_rate*100, 2)}%\")\n",
    "        forward_rate_matrix.append(forward_rates)\n",
    "    return forward_rate_matrix"
   ]
  },
  {
   "cell_type": "markdown",
   "metadata": {},
   "source": [
    "4. 輸出表格"
   ]
  },
  {
   "cell_type": "code",
   "execution_count": 18,
   "metadata": {},
   "outputs": [
    {
     "name": "stdout",
     "output_type": "stream",
     "text": [
      "--- Forward Rate Table ---\n",
      "+-----+-------+-------+-------+-------+\n",
      "|     | 0.0   | 0.5   | 1.0   | 1.5   |\n",
      "+=====+=======+=======+=======+=======+\n",
      "| 0   | x     | 1.0%  | 2.0%  | 3.03% |\n",
      "+-----+-------+-------+-------+-------+\n",
      "| 0.5 | x     | x     | 3.01% | 4.06% |\n",
      "+-----+-------+-------+-------+-------+\n",
      "| 1   | x     | x     | x     | 5.12% |\n",
      "+-----+-------+-------+-------+-------+\n",
      "| 1.5 | x     | x     | x     | x     |\n",
      "+-----+-------+-------+-------+-------+\n"
     ]
    }
   ],
   "source": [
    "import pandas as pd\n",
    "from tabulate import tabulate\n",
    "\n",
    "label = [i / m for i in range(len(spot_rate_list))]\n",
    "forward_rate_table = pd.DataFrame(compute_forward(spot_rate_list), columns=label, index=label)\n",
    "\n",
    "print(\"--- Forward Rate Table ---\")\n",
    "print(tabulate(forward_rate_table, headers='keys', tablefmt=\"grid\"))"
   ]
  }
 ],
 "metadata": {
  "kernelspec": {
   "display_name": "Python 3",
   "language": "python",
   "name": "python3"
  },
  "language_info": {
   "codemirror_mode": {
    "name": "ipython",
    "version": 3
   },
   "file_extension": ".py",
   "mimetype": "text/x-python",
   "name": "python",
   "nbconvert_exporter": "python",
   "pygments_lexer": "ipython3",
   "version": "3.7.4"
  }
 },
 "nbformat": 4,
 "nbformat_minor": 4
}
