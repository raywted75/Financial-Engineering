{
 "cells": [
  {
   "cell_type": "markdown",
   "metadata": {},
   "source": [
    "# HW3 Binomial Option Pricing Model (BOPM)\n",
    "\n",
    "## 說明\n",
    "\n",
    "作業三要實作 Binomial Option Pricing Model，其中的輸入與輸出分別如下：\n",
    "\n",
    "- 輸入：\n",
    "1. X: Strike Price\n",
    "2. S: Stock Price\n",
    "3. r: Riskless Rate\n",
    "4. u: Uptick\n",
    "5. d: Downtick\n",
    "6. n: Periods\n",
    "\n",
    "- 輸出：\n",
    "1. C: Call Value\n",
    "2. P: Put Value"
   ]
  },
  {
   "cell_type": "markdown",
   "metadata": {},
   "source": [
    "## 公式\n",
    "\n",
    "以下公式為計算 Binomial Option Pricing Model 時，所會用到的公式：\n",
    "\n",
    "1. $R = e^r$\n",
    "\n",
    "2. $P = \\frac{R - d}{u - d}$\n",
    "\n",
    "3. $C_u = max(0, S_u - X) \\\\ C_d = max(0, S_d - X)$\n",
    "\n",
    "4. $P_u = max(0, X - S_u) \\\\ P_d = max(0, X - S_d)$\n",
    "\n",
    "5. $C = \\frac{pC_u + (1-p)C_d}{R} \\\\ P = \\frac{pP_u + (1-p)P_d}{R}$"
   ]
  },
  {
   "cell_type": "markdown",
   "metadata": {},
   "source": [
    "## 實作\n",
    "\n",
    "程式實作的部分會分三個階段：\n",
    "\n",
    "1. (Forward) 由第 0 期計算至第 n 期的 Stock Price\n",
    "2. (Backward) 由第 n 期 計算至第 0 期的 Call/Put Value\n",
    "3. 使用化簡後的公式重複驗證計算的計算的正確性"
   ]
  },
  {
   "cell_type": "markdown",
   "metadata": {},
   "source": [
    "### 0. 取得輸入並計算出 R, P"
   ]
  },
  {
   "cell_type": "code",
   "execution_count": 1,
   "metadata": {},
   "outputs": [
    {
     "name": "stdin",
     "output_type": "stream",
     "text": [
      "Strike Price:  150\n",
      "Stock Price:  160\n",
      "Riskless Rate(%):  18.232\n",
      "Uptick:  1.5\n",
      "Downtick:  0.5\n",
      "Periods:  3\n"
     ]
    }
   ],
   "source": [
    "X = float(input(\"Strike Price: \"))\n",
    "S = float(input(\"Stock Price: \"))\n",
    "r = float(input(\"Riskless Rate(%): \")) / 100\n",
    "u = float(input(\"Uptick: \"))\n",
    "d = float(input(\"Downtick: \"))\n",
    "n = int(input(\"Periods: \"))"
   ]
  },
  {
   "cell_type": "code",
   "execution_count": 2,
   "metadata": {},
   "outputs": [
    {
     "name": "stdout",
     "output_type": "stream",
     "text": [
      "R = 1.1999981318487085\n",
      "P = 0.6999981318487085\n"
     ]
    }
   ],
   "source": [
    "import math\n",
    "\n",
    "R = math.exp(r)\n",
    "P = (R - d) / (u - d)\n",
    "\n",
    "print(f\"R = {R}\")\n",
    "print(f\"P = {P}\")"
   ]
  },
  {
   "cell_type": "markdown",
   "metadata": {},
   "source": [
    "### 1. (Forward) 由第 0 期計算至第 n 期的 Stock Price"
   ]
  },
  {
   "cell_type": "code",
   "execution_count": 3,
   "metadata": {},
   "outputs": [
    {
     "name": "stdout",
     "output_type": "stream",
     "text": [
      "sList = [540.0, 180.0, 60.0, 20.0]\n"
     ]
    }
   ],
   "source": [
    "sList = list()\n",
    "for i in range(n + 1):\n",
    "    s = S * (u ** (3 - i)) * (d ** (i))\n",
    "    sList.append(s)\n",
    "\n",
    "print(f\"sList = {sList}\")"
   ]
  },
  {
   "cell_type": "code",
   "execution_count": 4,
   "metadata": {},
   "outputs": [
    {
     "name": "stdout",
     "output_type": "stream",
     "text": [
      "cList = [390.0, 30.0, 0, 0]\n",
      "pList = [0, 0, 90.0, 130.0]\n"
     ]
    }
   ],
   "source": [
    "cList = list()\n",
    "pList = list()\n",
    "for i in range(n + 1):\n",
    "    c = max(0, sList[i] - X)\n",
    "    p = max(0, X - sList[i])\n",
    "    cList.append(c)\n",
    "    pList.append(p)\n",
    "\n",
    "print(f\"cList = {cList}\")\n",
    "print(f\"pList = {pList}\")"
   ]
  },
  {
   "cell_type": "markdown",
   "metadata": {},
   "source": [
    "### 2. (Backward) 由第 n 期 計算至第 0 期的 Call/Put Value"
   ]
  },
  {
   "cell_type": "code",
   "execution_count": 5,
   "metadata": {},
   "outputs": [
    {
     "name": "stdout",
     "output_type": "stream",
     "text": [
      "cList = [85.06922876361149]\n",
      "pList = [11.875189735206167]\n"
     ]
    }
   ],
   "source": [
    "for i in range(n):\n",
    "    tempList = [[],[]]\n",
    "    for j in range(len(cList) - 1):\n",
    "        cu = cList[j]\n",
    "        cp = cList[j + 1]\n",
    "        c = (P * cu + (1 - P) * cp) / R\n",
    "        tempList[0].append(c)\n",
    "        \n",
    "        pu = pList[j]\n",
    "        pp = pList[j + 1]\n",
    "        p = (P * pu + (1 - P) * pp) / R\n",
    "        tempList[1].append(p)\n",
    "        \n",
    "    cList = tempList[0]\n",
    "    pList = tempList[1]\n",
    "    \n",
    "print(f\"cList = {cList}\")\n",
    "print(f\"pList = {pList}\")"
   ]
  },
  {
   "cell_type": "markdown",
   "metadata": {},
   "source": [
    "### 3. 使用化簡後的公式重複驗證計算的計算的正確性"
   ]
  },
  {
   "cell_type": "code",
   "execution_count": 6,
   "metadata": {},
   "outputs": [
    {
     "name": "stdout",
     "output_type": "stream",
     "text": [
      "cValue = 85.06922876361152\n",
      "pValue = 11.875189735206163\n"
     ]
    }
   ],
   "source": [
    "from scipy.special import comb\n",
    "\n",
    "c = 0\n",
    "p = 0\n",
    "for j in range(n + 1):\n",
    "    c += comb(n, j) * (P ** j) * ((1 - P) ** (n - j)) * max(0, S * (u ** j) * (d ** (n - j)) - X)\n",
    "    p += comb(n, j) * (P ** j) * ((1 - P) ** (n - j)) * max(0, X - S * (u ** j) * (d ** (n - j)))\n",
    "cValue = c / (R ** n)\n",
    "pValue = p / (R ** n)\n",
    "\n",
    "print(f\"cValue = {cValue}\")\n",
    "print(f\"pValue = {pValue}\")"
   ]
  }
 ],
 "metadata": {
  "kernelspec": {
   "display_name": "Python 3",
   "language": "python",
   "name": "python3"
  },
  "language_info": {
   "codemirror_mode": {
    "name": "ipython",
    "version": 3
   },
   "file_extension": ".py",
   "mimetype": "text/x-python",
   "name": "python",
   "nbconvert_exporter": "python",
   "pygments_lexer": "ipython3",
   "version": "3.7.4"
  }
 },
 "nbformat": 4,
 "nbformat_minor": 4
}
