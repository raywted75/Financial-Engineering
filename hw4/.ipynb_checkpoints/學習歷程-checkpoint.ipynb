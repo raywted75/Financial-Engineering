{
 "cells": [
  {
   "cell_type": "markdown",
   "metadata": {},
   "source": [
    "# HW4"
   ]
  },
  {
   "cell_type": "markdown",
   "metadata": {},
   "source": [
    "## 1. Get User Input"
   ]
  },
  {
   "cell_type": "code",
   "execution_count": 1,
   "metadata": {},
   "outputs": [
    {
     "name": "stdin",
     "output_type": "stream",
     "text": [
      "Stock Price:  75\n",
      "Strike Price:  65\n",
      "Stock’s Volatility(%):  35\n",
      "Dividends:  1\n",
      "Months that dividends paid(example input: 1,4,7,10) 1,4\n",
      "Riskless Interest Rate(%) 6\n",
      "Duration of maturity(month):  6\n"
     ]
    }
   ],
   "source": [
    "S = float(input(\"Stock Price: \"))\n",
    "X = float(input(\"Strike Price: \"))\n",
    "sigma = float(input(\"Stock’s Volatility(%): \")) / 100\n",
    "dividend = float(input(\"Dividends: \"))\n",
    "months = [int(x) for x in input(\"Months that dividends paid(example input: 1,4,7,10)\").split(',')]   \n",
    "r = float(input(\"Riskless Interest Rate(%)\")) / 100\n",
    "t = float(input(\"Duration of maturity(month): \")) / 12"
   ]
  },
  {
   "cell_type": "markdown",
   "metadata": {},
   "source": [
    "## 2. Calculation"
   ]
  },
  {
   "cell_type": "code",
   "execution_count": 2,
   "metadata": {},
   "outputs": [],
   "source": [
    "import math\n",
    "from scipy.stats import norm\n",
    "\n",
    "D = 0\n",
    "for month in months:\n",
    "    if month / 12 < t:\n",
    "        D += dividend * math.exp(-1 * r * (month / 12))\n",
    "S_new = S - D\n",
    "\n",
    "d1 = (math.log(S_new / X) + (r + sigma**2 / 2) * t) / (sigma * t**(1/2))\n",
    "d2 = d1 - (sigma * t**(1/2))\n",
    "\n",
    "n1 = norm.cdf(d1)\n",
    "n2 = norm.cdf(d2)\n",
    "\n",
    "call = S_new * n1 - X * math.exp(-1 * r * t) * n2\n",
    "put = call + X * math.exp(-1 * r * t) - S_new"
   ]
  },
  {
   "cell_type": "markdown",
   "metadata": {},
   "source": [
    "## 3. Output"
   ]
  },
  {
   "cell_type": "code",
   "execution_count": 3,
   "metadata": {},
   "outputs": [
    {
     "name": "stdout",
     "output_type": "stream",
     "text": [
      "Call Price: 12.806183806810672\n",
      "Put Price: 2.860354639963134\n"
     ]
    }
   ],
   "source": [
    "print(f\"Call Price: {call}\")\n",
    "print(f\"Put Price: {put}\")"
   ]
  },
  {
   "cell_type": "code",
   "execution_count": null,
   "metadata": {},
   "outputs": [],
   "source": []
  }
 ],
 "metadata": {
  "kernelspec": {
   "display_name": "Python 3",
   "language": "python",
   "name": "python3"
  },
  "language_info": {
   "codemirror_mode": {
    "name": "ipython",
    "version": 3
   },
   "file_extension": ".py",
   "mimetype": "text/x-python",
   "name": "python",
   "nbconvert_exporter": "python",
   "pygments_lexer": "ipython3",
   "version": "3.7.4"
  }
 },
 "nbformat": 4,
 "nbformat_minor": 4
}
